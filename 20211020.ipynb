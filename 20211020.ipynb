{
 "cells": [
  {
   "cell_type": "code",
   "execution_count": 5,
   "id": "01e92bc1",
   "metadata": {},
   "outputs": [],
   "source": [
    "DECIMALS = 4\n",
    "\n",
    "g = 0.052\n",
    "hyper_g = 0.11\n",
    "divs = {\n",
    "    0: 0.96,\n",
    "}\n",
    "r_e = 0.085"
   ]
  },
  {
   "cell_type": "code",
   "execution_count": 6,
   "id": "fb6c31f4",
   "metadata": {},
   "outputs": [
    {
     "name": "stdout",
     "output_type": "stream",
     "text": [
      "Dividends: {0: 0.96, 1: 1.0656, 2: 1.1828, 3: 1.3129, 4: 1.4573, 5: 1.6176}\n"
     ]
    }
   ],
   "source": [
    "for i in range(5):\n",
    "    divs[i+1] = round(divs[i] * (1+hyper_g), DECIMALS)\n",
    "print(f\"Dividends: {divs}\")"
   ]
  },
  {
   "cell_type": "code",
   "execution_count": 7,
   "id": "b1663d04",
   "metadata": {},
   "outputs": [
    {
     "name": "stdout",
     "output_type": "stream",
     "text": [
      "r_e: 0.085\n",
      "Cashflows: {0: 0.96, 1: 1.0656, 2: 1.1828, 3: 1.3129, 4: 1.4573, 5: 1.6176}\n"
     ]
    }
   ],
   "source": [
    "# From calculator Cashflows\n",
    "print(f\"r_e: {r_e}\")\n",
    "print(f\"Cashflows: {divs}\")\n",
    "pv_divs = 6.1021"
   ]
  },
  {
   "cell_type": "code",
   "execution_count": 8,
   "id": "0be46ba5",
   "metadata": {},
   "outputs": [
    {
     "name": "stdout",
     "output_type": "stream",
     "text": [
      "P_5 = 51.56712727272726\n"
     ]
    }
   ],
   "source": [
    "divs[6] = divs[5] * (1+g)\n",
    "\n",
    "p_5 = divs[6] / (r_e-g)\n",
    "print(f\"P_5 = {p_5}\")"
   ]
  },
  {
   "cell_type": "code",
   "execution_count": 10,
   "id": "525bb233",
   "metadata": {},
   "outputs": [
    {
     "name": "stdout",
     "output_type": "stream",
     "text": [
      "5->N\n",
      "51.56712727272726->FV\n",
      "8.5->I/Y\n",
      "0->PMT\n"
     ]
    }
   ],
   "source": [
    "# From calculator TMV\n",
    "print(f\"5->N\\n{p_5}->FV\\n{r_e*100}->I/Y\\n0->PMT\")\n",
    "pv_p_5 = 34.2945"
   ]
  },
  {
   "cell_type": "code",
   "execution_count": 11,
   "id": "96b3758d",
   "metadata": {},
   "outputs": [
    {
     "name": "stdout",
     "output_type": "stream",
     "text": [
      "40.3966\n"
     ]
    }
   ],
   "source": [
    "print(pv_p_5 + pv_divs)"
   ]
  },
  {
   "cell_type": "code",
   "execution_count": null,
   "id": "8978b3cf",
   "metadata": {},
   "outputs": [],
   "source": []
  }
 ],
 "metadata": {
  "kernelspec": {
   "display_name": "Python 3 (ipykernel)",
   "language": "python",
   "name": "python3"
  },
  "language_info": {
   "codemirror_mode": {
    "name": "ipython",
    "version": 3
   },
   "file_extension": ".py",
   "mimetype": "text/x-python",
   "name": "python",
   "nbconvert_exporter": "python",
   "pygments_lexer": "ipython3",
   "version": "3.9.7"
  }
 },
 "nbformat": 4,
 "nbformat_minor": 5
}
