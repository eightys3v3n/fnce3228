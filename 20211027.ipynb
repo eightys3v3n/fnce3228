{
 "cells": [
  {
   "cell_type": "code",
   "execution_count": 3,
   "id": "e4afd16f",
   "metadata": {},
   "outputs": [
    {
     "name": "stdout",
     "output_type": "stream",
     "text": [
      "2626.036363636365 806.6742857142858\n"
     ]
    }
   ],
   "source": [
    "g_1 = 0.062\n",
    "g_2 = 0.038\n",
    "div_4 = 27.2\n",
    "r_e = 0.073\n",
    "\n",
    "p4_1 = (div_4 * (1+g_1)) / (r_e - g1)\n",
    "p4_2 = (div_4 * (1+g_2)) / (r_e - g2)\n",
    "\n",
    "print(p4_1, p4_2)"
   ]
  },
  {
   "cell_type": "code",
   "execution_count": 5,
   "id": "c08b6657",
   "metadata": {},
   "outputs": [
    {
     "data": {
      "text/plain": [
       "800000.0"
      ]
     },
     "execution_count": 5,
     "metadata": {},
     "output_type": "execute_result"
    }
   ],
   "source": [
    "5.32/2\n",
    "0.02*40_000_000\n"
   ]
  }
 ],
 "metadata": {
  "kernelspec": {
   "display_name": "Python 3 (ipykernel)",
   "language": "python",
   "name": "python3"
  },
  "language_info": {
   "codemirror_mode": {
    "name": "ipython",
    "version": 3
   },
   "file_extension": ".py",
   "mimetype": "text/x-python",
   "name": "python",
   "nbconvert_exporter": "python",
   "pygments_lexer": "ipython3",
   "version": "3.9.7"
  }
 },
 "nbformat": 4,
 "nbformat_minor": 5
}
